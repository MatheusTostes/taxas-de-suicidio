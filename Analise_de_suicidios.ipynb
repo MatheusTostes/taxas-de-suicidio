{
 "cells": [
  {
   "cell_type": "code",
   "execution_count": 2,
   "metadata": {},
   "outputs": [],
   "source": [
    "import pandas as pd\n",
    "import numpy as np\n",
    "import matplotlib.pyplot as plt\n",
    "\n",
    "#pip install pandas-profiling\n",
    "#pip install https://github.com/pandas-profiling/pandas-profiling/archive/master.zip\n",
    "#from pandas_profiling import ProfileReport"
   ]
  },
  {
   "cell_type": "markdown",
   "metadata": {},
   "source": [
    "# Visualizando o crescimento dos casos de suicídio (por gênero e idade)"
   ]
  },
  {
   "cell_type": "code",
   "execution_count": 3,
   "metadata": {},
   "outputs": [
    {
     "data": {
      "text/html": [
       "<div>\n",
       "<style scoped>\n",
       "    .dataframe tbody tr th:only-of-type {\n",
       "        vertical-align: middle;\n",
       "    }\n",
       "\n",
       "    .dataframe tbody tr th {\n",
       "        vertical-align: top;\n",
       "    }\n",
       "\n",
       "    .dataframe thead th {\n",
       "        text-align: right;\n",
       "    }\n",
       "</style>\n",
       "<table border=\"1\" class=\"dataframe\">\n",
       "  <thead>\n",
       "    <tr style=\"text-align: right;\">\n",
       "      <th></th>\n",
       "      <th>country</th>\n",
       "      <th>year</th>\n",
       "      <th>sex</th>\n",
       "      <th>age</th>\n",
       "      <th>suicides_no</th>\n",
       "      <th>population</th>\n",
       "    </tr>\n",
       "  </thead>\n",
       "  <tbody>\n",
       "    <tr>\n",
       "      <th>0</th>\n",
       "      <td>Albania</td>\n",
       "      <td>1985</td>\n",
       "      <td>female</td>\n",
       "      <td>15-24 years</td>\n",
       "      <td>NaN</td>\n",
       "      <td>277900.0</td>\n",
       "    </tr>\n",
       "    <tr>\n",
       "      <th>1</th>\n",
       "      <td>Albania</td>\n",
       "      <td>1985</td>\n",
       "      <td>female</td>\n",
       "      <td>25-34 years</td>\n",
       "      <td>NaN</td>\n",
       "      <td>246800.0</td>\n",
       "    </tr>\n",
       "    <tr>\n",
       "      <th>2</th>\n",
       "      <td>Albania</td>\n",
       "      <td>1985</td>\n",
       "      <td>female</td>\n",
       "      <td>35-54 years</td>\n",
       "      <td>NaN</td>\n",
       "      <td>267500.0</td>\n",
       "    </tr>\n",
       "    <tr>\n",
       "      <th>3</th>\n",
       "      <td>Albania</td>\n",
       "      <td>1985</td>\n",
       "      <td>female</td>\n",
       "      <td>5-14 years</td>\n",
       "      <td>NaN</td>\n",
       "      <td>298300.0</td>\n",
       "    </tr>\n",
       "    <tr>\n",
       "      <th>4</th>\n",
       "      <td>Albania</td>\n",
       "      <td>1985</td>\n",
       "      <td>female</td>\n",
       "      <td>55-74 years</td>\n",
       "      <td>NaN</td>\n",
       "      <td>138700.0</td>\n",
       "    </tr>\n",
       "    <tr>\n",
       "      <th>...</th>\n",
       "      <td>...</td>\n",
       "      <td>...</td>\n",
       "      <td>...</td>\n",
       "      <td>...</td>\n",
       "      <td>...</td>\n",
       "      <td>...</td>\n",
       "    </tr>\n",
       "    <tr>\n",
       "      <th>43771</th>\n",
       "      <td>Zimbabwe</td>\n",
       "      <td>1990</td>\n",
       "      <td>male</td>\n",
       "      <td>25-34 years</td>\n",
       "      <td>150.0</td>\n",
       "      <td>NaN</td>\n",
       "    </tr>\n",
       "    <tr>\n",
       "      <th>43772</th>\n",
       "      <td>Zimbabwe</td>\n",
       "      <td>1990</td>\n",
       "      <td>male</td>\n",
       "      <td>35-54 years</td>\n",
       "      <td>132.0</td>\n",
       "      <td>NaN</td>\n",
       "    </tr>\n",
       "    <tr>\n",
       "      <th>43773</th>\n",
       "      <td>Zimbabwe</td>\n",
       "      <td>1990</td>\n",
       "      <td>male</td>\n",
       "      <td>5-14 years</td>\n",
       "      <td>6.0</td>\n",
       "      <td>NaN</td>\n",
       "    </tr>\n",
       "    <tr>\n",
       "      <th>43774</th>\n",
       "      <td>Zimbabwe</td>\n",
       "      <td>1990</td>\n",
       "      <td>male</td>\n",
       "      <td>55-74 years</td>\n",
       "      <td>74.0</td>\n",
       "      <td>NaN</td>\n",
       "    </tr>\n",
       "    <tr>\n",
       "      <th>43775</th>\n",
       "      <td>Zimbabwe</td>\n",
       "      <td>1990</td>\n",
       "      <td>male</td>\n",
       "      <td>75+ years</td>\n",
       "      <td>13.0</td>\n",
       "      <td>NaN</td>\n",
       "    </tr>\n",
       "  </tbody>\n",
       "</table>\n",
       "<p>43776 rows × 6 columns</p>\n",
       "</div>"
      ],
      "text/plain": [
       "        country  year     sex          age  suicides_no  population\n",
       "0       Albania  1985  female  15-24 years          NaN    277900.0\n",
       "1       Albania  1985  female  25-34 years          NaN    246800.0\n",
       "2       Albania  1985  female  35-54 years          NaN    267500.0\n",
       "3       Albania  1985  female   5-14 years          NaN    298300.0\n",
       "4       Albania  1985  female  55-74 years          NaN    138700.0\n",
       "...         ...   ...     ...          ...          ...         ...\n",
       "43771  Zimbabwe  1990    male  25-34 years        150.0         NaN\n",
       "43772  Zimbabwe  1990    male  35-54 years        132.0         NaN\n",
       "43773  Zimbabwe  1990    male   5-14 years          6.0         NaN\n",
       "43774  Zimbabwe  1990    male  55-74 years         74.0         NaN\n",
       "43775  Zimbabwe  1990    male    75+ years         13.0         NaN\n",
       "\n",
       "[43776 rows x 6 columns]"
      ]
     },
     "execution_count": 3,
     "metadata": {},
     "output_type": "execute_result"
    }
   ],
   "source": [
    "df = pd.read_csv('who_suicide_statistics.csv')  # lê o arquivo csv\n",
    "df                                              # exibe o dataframe"
   ]
  },
  {
   "cell_type": "code",
   "execution_count": 4,
   "metadata": {},
   "outputs": [
    {
     "data": {
      "text/html": [
       "<div>\n",
       "<style scoped>\n",
       "    .dataframe tbody tr th:only-of-type {\n",
       "        vertical-align: middle;\n",
       "    }\n",
       "\n",
       "    .dataframe tbody tr th {\n",
       "        vertical-align: top;\n",
       "    }\n",
       "\n",
       "    .dataframe thead th {\n",
       "        text-align: right;\n",
       "    }\n",
       "</style>\n",
       "<table border=\"1\" class=\"dataframe\">\n",
       "  <thead>\n",
       "    <tr style=\"text-align: right;\">\n",
       "      <th></th>\n",
       "      <th>year</th>\n",
       "      <th>suicides_no</th>\n",
       "      <th>population</th>\n",
       "    </tr>\n",
       "  </thead>\n",
       "  <tbody>\n",
       "    <tr>\n",
       "      <th>count</th>\n",
       "      <td>43776.000000</td>\n",
       "      <td>41520.000000</td>\n",
       "      <td>3.831600e+04</td>\n",
       "    </tr>\n",
       "    <tr>\n",
       "      <th>mean</th>\n",
       "      <td>1998.502467</td>\n",
       "      <td>193.315390</td>\n",
       "      <td>1.664091e+06</td>\n",
       "    </tr>\n",
       "    <tr>\n",
       "      <th>std</th>\n",
       "      <td>10.338711</td>\n",
       "      <td>800.589926</td>\n",
       "      <td>3.647231e+06</td>\n",
       "    </tr>\n",
       "    <tr>\n",
       "      <th>min</th>\n",
       "      <td>1979.000000</td>\n",
       "      <td>0.000000</td>\n",
       "      <td>2.590000e+02</td>\n",
       "    </tr>\n",
       "    <tr>\n",
       "      <th>25%</th>\n",
       "      <td>1990.000000</td>\n",
       "      <td>1.000000</td>\n",
       "      <td>8.511275e+04</td>\n",
       "    </tr>\n",
       "    <tr>\n",
       "      <th>50%</th>\n",
       "      <td>1999.000000</td>\n",
       "      <td>14.000000</td>\n",
       "      <td>3.806550e+05</td>\n",
       "    </tr>\n",
       "    <tr>\n",
       "      <th>75%</th>\n",
       "      <td>2007.000000</td>\n",
       "      <td>91.000000</td>\n",
       "      <td>1.305698e+06</td>\n",
       "    </tr>\n",
       "    <tr>\n",
       "      <th>max</th>\n",
       "      <td>2016.000000</td>\n",
       "      <td>22338.000000</td>\n",
       "      <td>4.380521e+07</td>\n",
       "    </tr>\n",
       "  </tbody>\n",
       "</table>\n",
       "</div>"
      ],
      "text/plain": [
       "               year   suicides_no    population\n",
       "count  43776.000000  41520.000000  3.831600e+04\n",
       "mean    1998.502467    193.315390  1.664091e+06\n",
       "std       10.338711    800.589926  3.647231e+06\n",
       "min     1979.000000      0.000000  2.590000e+02\n",
       "25%     1990.000000      1.000000  8.511275e+04\n",
       "50%     1999.000000     14.000000  3.806550e+05\n",
       "75%     2007.000000     91.000000  1.305698e+06\n",
       "max     2016.000000  22338.000000  4.380521e+07"
      ]
     },
     "execution_count": 4,
     "metadata": {},
     "output_type": "execute_result"
    }
   ],
   "source": [
    "df.describe()  # Mostra informações estatísticas sobre o dataframe"
   ]
  },
  {
   "cell_type": "code",
   "execution_count": 5,
   "metadata": {},
   "outputs": [
    {
     "data": {
      "text/html": [
       "<div>\n",
       "<style scoped>\n",
       "    .dataframe tbody tr th:only-of-type {\n",
       "        vertical-align: middle;\n",
       "    }\n",
       "\n",
       "    .dataframe tbody tr th {\n",
       "        vertical-align: top;\n",
       "    }\n",
       "\n",
       "    .dataframe thead th {\n",
       "        text-align: right;\n",
       "    }\n",
       "</style>\n",
       "<table border=\"1\" class=\"dataframe\">\n",
       "  <thead>\n",
       "    <tr style=\"text-align: right;\">\n",
       "      <th></th>\n",
       "      <th>year</th>\n",
       "      <th>suicides_no</th>\n",
       "      <th>population</th>\n",
       "    </tr>\n",
       "  </thead>\n",
       "  <tbody>\n",
       "    <tr>\n",
       "      <th>count</th>\n",
       "      <td>444.000000</td>\n",
       "      <td>444.000000</td>\n",
       "      <td>4.440000e+02</td>\n",
       "    </tr>\n",
       "    <tr>\n",
       "      <th>mean</th>\n",
       "      <td>1997.000000</td>\n",
       "      <td>564.918919</td>\n",
       "      <td>1.240234e+07</td>\n",
       "    </tr>\n",
       "    <tr>\n",
       "      <th>std</th>\n",
       "      <td>10.689122</td>\n",
       "      <td>616.996250</td>\n",
       "      <td>6.564101e+06</td>\n",
       "    </tr>\n",
       "    <tr>\n",
       "      <th>min</th>\n",
       "      <td>1979.000000</td>\n",
       "      <td>19.000000</td>\n",
       "      <td>6.556210e+05</td>\n",
       "    </tr>\n",
       "    <tr>\n",
       "      <th>25%</th>\n",
       "      <td>1988.000000</td>\n",
       "      <td>88.750000</td>\n",
       "      <td>7.446056e+06</td>\n",
       "    </tr>\n",
       "    <tr>\n",
       "      <th>50%</th>\n",
       "      <td>1997.000000</td>\n",
       "      <td>344.500000</td>\n",
       "      <td>1.400505e+07</td>\n",
       "    </tr>\n",
       "    <tr>\n",
       "      <th>75%</th>\n",
       "      <td>2006.000000</td>\n",
       "      <td>822.250000</td>\n",
       "      <td>1.718881e+07</td>\n",
       "    </tr>\n",
       "    <tr>\n",
       "      <th>max</th>\n",
       "      <td>2015.000000</td>\n",
       "      <td>3238.000000</td>\n",
       "      <td>2.846186e+07</td>\n",
       "    </tr>\n",
       "  </tbody>\n",
       "</table>\n",
       "</div>"
      ],
      "text/plain": [
       "              year  suicides_no    population\n",
       "count   444.000000   444.000000  4.440000e+02\n",
       "mean   1997.000000   564.918919  1.240234e+07\n",
       "std      10.689122   616.996250  6.564101e+06\n",
       "min    1979.000000    19.000000  6.556210e+05\n",
       "25%    1988.000000    88.750000  7.446056e+06\n",
       "50%    1997.000000   344.500000  1.400505e+07\n",
       "75%    2006.000000   822.250000  1.718881e+07\n",
       "max    2015.000000  3238.000000  2.846186e+07"
      ]
     },
     "execution_count": 5,
     "metadata": {},
     "output_type": "execute_result"
    }
   ],
   "source": [
    "df1 = df.dropna()                                   # exclui linhas com termos nulos\n",
    "df1 = df1.drop(df1[df1.country != 'Brazil'].index)  # exclui as linhas cujo país não seja Brazil\n",
    "df1.describe()"
   ]
  },
  {
   "cell_type": "code",
   "execution_count": 6,
   "metadata": {},
   "outputs": [
    {
     "data": {
      "text/html": [
       "<div>\n",
       "<style scoped>\n",
       "    .dataframe tbody tr th:only-of-type {\n",
       "        vertical-align: middle;\n",
       "    }\n",
       "\n",
       "    .dataframe tbody tr th {\n",
       "        vertical-align: top;\n",
       "    }\n",
       "\n",
       "    .dataframe thead th {\n",
       "        text-align: right;\n",
       "    }\n",
       "</style>\n",
       "<table border=\"1\" class=\"dataframe\">\n",
       "  <thead>\n",
       "    <tr style=\"text-align: right;\">\n",
       "      <th></th>\n",
       "      <th>year</th>\n",
       "      <th>suicides_no</th>\n",
       "      <th>population</th>\n",
       "    </tr>\n",
       "  </thead>\n",
       "  <tbody>\n",
       "    <tr>\n",
       "      <th>year</th>\n",
       "      <td>1.000000</td>\n",
       "      <td>0.301916</td>\n",
       "      <td>0.345433</td>\n",
       "    </tr>\n",
       "    <tr>\n",
       "      <th>suicides_no</th>\n",
       "      <td>0.301916</td>\n",
       "      <td>1.000000</td>\n",
       "      <td>0.428713</td>\n",
       "    </tr>\n",
       "    <tr>\n",
       "      <th>population</th>\n",
       "      <td>0.345433</td>\n",
       "      <td>0.428713</td>\n",
       "      <td>1.000000</td>\n",
       "    </tr>\n",
       "  </tbody>\n",
       "</table>\n",
       "</div>"
      ],
      "text/plain": [
       "                 year  suicides_no  population\n",
       "year         1.000000     0.301916    0.345433\n",
       "suicides_no  0.301916     1.000000    0.428713\n",
       "population   0.345433     0.428713    1.000000"
      ]
     },
     "execution_count": 6,
     "metadata": {},
     "output_type": "execute_result"
    }
   ],
   "source": [
    "correlation = df1.corr()       # exibe a correlação entre as variáveis numéricas\n",
    "correlation"
   ]
  },
  {
   "cell_type": "code",
   "execution_count": 7,
   "metadata": {},
   "outputs": [],
   "source": [
    "# Separando em dois dataframes por gênero\n",
    "dfmale = df1.drop(df1[df1.sex != 'male'].index)      # exclui as linhas cujo gênero não seja male\n",
    "dffemale = df1.drop(df1[df1.sex != 'female'].index)  # exclui as linhas cujo gênero não seja female"
   ]
  },
  {
   "cell_type": "markdown",
   "metadata": {},
   "source": [
    "#### Agrupando linhas por data, removendo as colunas desnecessárias e redefinindo a data de índice para coluna de variável"
   ]
  },
  {
   "cell_type": "code",
   "execution_count": 8,
   "metadata": {},
   "outputs": [],
   "source": [
    "#  manipulando o dataframe dos homens para plotagem \n",
    "\n",
    "groupedm = dfmale[['country', 'sex', 'year','age', 'suicides_no', 'population']].groupby(dfmale['year'])\n",
    "dfmale = groupedm.sum()                            # em conjunto com a linha acima, agrupa as linhas com termos iguais na coluna year somando-as\n",
    "dfmale.columns = ['year', 'homens', 'population']  # renomeia a coluna suicides_no para homens"
   ]
  },
  {
   "cell_type": "code",
   "execution_count": 9,
   "metadata": {},
   "outputs": [],
   "source": [
    "# com os comandos acima temos uma coluna indice year onde os anos não repetem e não foram somados e, alem dela, \n",
    "# uma coluna years onde os anos foram somados\n",
    "\n",
    "dfmale2 = dfmale.drop(['year'], axis=1)  # exclui a coluna year que recebeu soma\n",
    "dfmale2 = dfmale2.reset_index()          # transforma em coluna de variaveis a coluna years que era indice\n",
    "#dfmale2.tail()                          # exibe as 5 últimas linhas do dataframe"
   ]
  },
  {
   "cell_type": "code",
   "execution_count": 10,
   "metadata": {},
   "outputs": [],
   "source": [
    "#  abaixo repetimos o passo acima, agora para o dataframe das mulheres\n",
    "\n",
    "groupedf = dffemale[['country', 'sex', 'year','age', 'suicides_no', 'population']].groupby(dffemale['year'])\n",
    "dffemale = groupedf.sum()\n",
    "dffemale.columns = ['year', 'mulheres', 'population']"
   ]
  },
  {
   "cell_type": "code",
   "execution_count": 11,
   "metadata": {},
   "outputs": [],
   "source": [
    "dffemale2 = dffemale.drop(['year'], axis=1)\n",
    "dffemale2 = dffemale2.reset_index()\n",
    "#dffemale2.tail()"
   ]
  },
  {
   "cell_type": "markdown",
   "metadata": {},
   "source": [
    "#### Plotando um gráfico de barras comparativo por gênero e data"
   ]
  },
  {
   "cell_type": "code",
   "execution_count": 12,
   "metadata": {},
   "outputs": [
    {
     "data": {
      "image/png": "[encoded data removed]",
      "text/plain": [
       "<Figure size 1080x360 with 1 Axes>"
      ]
     },
     "metadata": {
      "needs_background": "light"
     },
     "output_type": "display_data"
    }
   ],
   "source": [
    "plt.figure(figsize=(15,5))                                             # define o tamanho do gráfico\n",
    "ax = plt.gca()                                                         # especificando os eixos que serão plotados\n",
    "plt.title('Quantidade de suicídios por gênero e ano')                  # título do gráfico\n",
    "\n",
    "dfmale2.plot(kind='bar',x= 'year', y='homens', ax=ax)                  # plotagem das barras referentes aos homens\n",
    "\n",
    "dffemale2.plot(kind='bar',x= 'year',y='mulheres', color='red', ax=ax)  # plotagem das barras referentes às mulheres\n",
    "\n",
    "plt.ylabel('suicídios')                                                # legenda do eiro y (vertical)\n",
    "plt.xlabel('ano')                                                      # legenda do eixo x (horizontal)\n",
    "plt.xticks(rotation=45)                                                # projeta os anos em 45º\n",
    "ax.set_axisbelow(True)                                                 # em conjunto com o comando abaixo, projeta linhas tracejadas sobre o gráfico\n",
    "ax.yaxis.grid(color='gray', linestyle='dashed')"
   ]
  },
  {
   "cell_type": "markdown",
   "metadata": {},
   "source": [
    "Fica evidente que a maior parte das vítimas de suicídio são do gênero masculino e essa discrepância só cresce."
   ]
  },
  {
   "cell_type": "markdown",
   "metadata": {},
   "source": [
    "## Codificando agora para o plot comparativo de suicídio entre as idades"
   ]
  },
  {
   "cell_type": "code",
   "execution_count": 23,
   "metadata": {},
   "outputs": [],
   "source": [
    "# Separando o dataframe por 6 dataframes, cada um referente a uma idade\n",
    "\n",
    "df5 = df1.drop(df1[df1.age != '5-14 years'].index)    # exclui as linhas cuja idade não seja 5-14 anos\n",
    "df15 = df1.drop(df1[df1.age != '15-24 years'].index)  # exclui as linhas cuja idade não seja 15-24 anos\n",
    "df25 = df1.drop(df1[df1.age != '25-34 years'].index)  # exclui as linhas cuja idade não seja 25-34 anos\n",
    "df35 = df1.drop(df1[df1.age != '35-54 years'].index)  # exclui as linhas cuja idade não seja 35-54 anos\n",
    "df55 = df1.drop(df1[df1.age != '55-74 years'].index)  # exclui as linhas cuja idade não seja 55-74 anos\n",
    "df75 = df1.drop(df1[df1.age != '75+ years'].index)    # exclui as linhas cuja idade não seja 75+ anos"
   ]
  },
  {
   "cell_type": "code",
   "execution_count": 24,
   "metadata": {},
   "outputs": [],
   "source": [
    "# Quebrando a distinção de gêneros agrupando-os por year em comum\n",
    "\n",
    "def grp(dff):\n",
    "    groupedm = dff[['country', 'sex', 'year','age', 'suicides_no', 'population']].groupby(dff['year'])  #agrupa as linhas com year em comum\n",
    "    dff = groupedm.sum()\n",
    "    return dff\n",
    "\n",
    "df5 = grp(df5)                                                                                          # aplica a função criada para agrupar por years\n",
    "df5.columns = ['year', '5-14 anos', 'population']                                                       # renomeia as colunas\n",
    "\n",
    "df15 = grp(df15)\n",
    "df15.columns = ['year', '15-24 anos', 'population']  \n",
    "\n",
    "df25 = grp(df25)\n",
    "df25.columns = ['year', '25-34 anos', 'population']  \n",
    "\n",
    "df35 = grp(df35)\n",
    "df35.columns = ['year', '35-54 anos', 'population']  \n",
    "\n",
    "df55 = grp(df55)\n",
    "df55.columns = ['year', '55-74 anos', 'population']  \n",
    "\n",
    "df75 = grp(df75)\n",
    "df75.columns = ['year', '75+ anos', 'population'] "
   ]
  },
  {
   "cell_type": "code",
   "execution_count": 25,
   "metadata": {},
   "outputs": [],
   "source": [
    "# Resetando o year index das colunas como uma coluna variavel manipulavel e excluindo a coluna variavel year incompativel\n",
    "\n",
    "def drpy(dy):                        # dentro do parentese segue a variavel que vou aplicar os comandos abaixo\n",
    "    dy = dy.drop(['year'], axis=1)   # aplica comando de dropar a coluna anos\n",
    "    dy = dy.reset_index()            # aplica comando de resetar indices\n",
    "    return dy                        # pede para retornar o valor da variavel após aplicar a função\n",
    "    \n",
    "df5 = drpy(df5)                      # aplica a função conigurada acima na variavel df5\n",
    "df15 = drpy(df15)\n",
    "df25 = drpy(df25)\n",
    "df35 = drpy(df35)\n",
    "df55 = drpy(df55)\n",
    "df75 = drpy(df75)"
   ]
  },
  {
   "cell_type": "code",
   "execution_count": 17,
   "metadata": {},
   "outputs": [],
   "source": [
    "#df75.head()  # conferindo um dos 6 dataframes modificados"
   ]
  },
  {
   "cell_type": "code",
   "execution_count": 26,
   "metadata": {},
   "outputs": [
    {
     "data": {
      "image/png": "[encoded data removed]",
      "text/plain": [
       "<Figure size 1080x360 with 1 Axes>"
      ]
     },
     "metadata": {
      "needs_background": "light"
     },
     "output_type": "display_data"
    }
   ],
   "source": [
    "plt.figure(figsize=(15,5))                                              # define o tamanho do gráfico\n",
    "ax = plt.gca()                                                          # especifica os eixos que serão plotados\n",
    "plt.title('Quantidade de suicídios por idade e ano')                    # título do gráfico   \n",
    "    \n",
    "df35.plot(kind='bar',x= 'year',y='35-54 anos', color='purple', ax=ax)   # plotagem das barras referentes às idades 35-54\n",
    "\n",
    "df25.plot(kind='bar',x= 'year',y='25-34 anos', color='green', ax=ax)    # plotagem das barras referentes às idades 25-34\n",
    "\n",
    "df15.plot(kind='bar',x= 'year',y='15-24 anos', color='red', ax=ax)      # plotagem das barras referentes às idades 15-24\n",
    " \n",
    "df55.plot(kind='bar',x= 'year',y='55-74 anos', color='black', ax=ax)    # plotagem das barras referentes às idades 55-74\n",
    "\n",
    "df75.plot(kind='bar',x= 'year',y='75+ anos', color='yellow', ax=ax)     # plotagem das barras referentes às idades 75+\n",
    "\n",
    "df5.plot(kind='bar',x= 'year', y='5-14 anos', ax=ax)                    # plotagem das barras referentes às idades 5-14\n",
    "\n",
    "# foi importante aqui definir a ordem correta das plotagens, pois as barras sobressaem sobre as demais\n",
    "\n",
    "plt.ylabel('suicídios')                            # legenda do eixo y (vertical)\n",
    "plt.xlabel('ano')                                  # legenda do eixo x (horizontal)\n",
    "plt.xticks(rotation=45)                            # projeta os anos em 45º\n",
    "#plt.grid()                                        # projeta uma grade quadriculada sobre o grafico\n",
    "ax.set_axisbelow(True)                             # em conjunto com o comando abaixo, projeta linhas tracejadas sobre o gráfico\n",
    "ax.yaxis.grid(color='gray', linestyle='dashed')"
   ]
  },
  {
   "cell_type": "markdown",
   "metadata": {},
   "source": [
    "Aqui é importante informar que as barras indicam quantidade, não proporção. Devemos distribuir os suicídios por porporção de população de cada classe para realmente fazer uma relação entre as classes."
   ]
  },
  {
   "cell_type": "code",
   "execution_count": 28,
   "metadata": {},
   "outputs": [],
   "source": [
    "df5['5-14 anos'] = (df5['5-14 anos']/df5['population'])*100000\n",
    "df15['15-24 anos'] = (df15['15-24 anos']/df15['population'])*100000\n",
    "df25['25-34 anos'] = (df25['25-34 anos']/df25['population'])*100000\n",
    "df35['35-54 anos'] = (df35['35-54 anos']/df35['population'])*100000\n",
    "df55['55-74 anos'] = (df55['55-74 anos']/df55['population'])*100000\n",
    "df75['75+ anos'] = (df75['75+ anos']/df75['population'])*100000"
   ]
  },
  {
   "cell_type": "code",
   "execution_count": 38,
   "metadata": {},
   "outputs": [
    {
     "data": {
      "image/png": "[encoded data removed]",
      "text/plain": [
       "<Figure size 1080x360 with 1 Axes>"
      ]
     },
     "metadata": {
      "needs_background": "light"
     },
     "output_type": "display_data"
    }
   ],
   "source": [
    "plt.figure(figsize=(15,5))                                              # define o tamanho do gráfico\n",
    "ax = plt.gca()                                                          # especifica os eixos que serão plotados\n",
    "plt.title('Quantidade de suicídios por idade e ano a cada 100mil habitantes')                    # título do gráfico   \n",
    "\n",
    "\n",
    "df75.plot(kind='line',x= 'year',y='75+ anos', color='yellow', ax=ax)     # plotagem das barras referentes às idades 75+\n",
    "\n",
    "df55.plot(kind='line',x= 'year',y='55-74 anos', color='black', ax=ax)    # plotagem das barras referentes às idades 55-74\n",
    "\n",
    "df35.plot(kind='line',x= 'year',y='35-54 anos', color='purple', ax=ax)   # plotagem das barras referentes às idades 35-54\n",
    "\n",
    "df25.plot(kind='line',x= 'year',y='25-34 anos', color='green', ax=ax)    # plotagem das barras referentes às idades 25-34\n",
    "\n",
    "df15.plot(kind='line',x= 'year',y='15-24 anos', color='red', ax=ax)      # plotagem das barras referentes às idades 15-24\n",
    "\n",
    "df5.plot(kind='line',x= 'year', y='5-14 anos', ax=ax)                    # plotagem das barras referentes às idades 5-14\n",
    "\n",
    "\n",
    "# foi importante aqui definir a ordem correta das plotagens, pois as barras sobressaem sobre as demais\n",
    "\n",
    "plt.ylabel('suicídios')                            # legenda do eixo y (vertical)\n",
    "plt.xlabel('ano')                                  # legenda do eixo x (horizontal)\n",
    "plt.xticks(rotation=45)                            # projeta os anos em 45º\n",
    "#plt.grid()                                        # projeta uma grade quadriculada sobre o grafico\n",
    "ax.set_axisbelow(True)                             # em conjunto com o comando abaixo, projeta linhas tracejadas sobre o gráfico\n",
    "ax.yaxis.grid(color='gray', linestyle='dashed')"
   ]
  },
  {
   "cell_type": "markdown",
   "metadata": {},
   "source": [
    "Conclusão até aqui: Agora sim podemos fazer uma comparação justa. Aqui podemos ver que, em 2015 com relação aos anos 90, a taxa de suicidios dos idosos caiu por volta de 10%, enquanto que em todos os outros grupos a mesma subiu. A taxa de suicidios entre crianças de 5-14 anos é baixa, provavelmente por não haver uma pressão da sociedade para que essa criança um dia seja bem sucedida, fato este que se agrava com o aumento da idade, podendo ser a causa da maior parte dos suicidios estar concentrada na população mais velha, decrescendo em proporção com a idade."
   ]
  }
 ],
 "metadata": {
  "kernelspec": {
   "display_name": "Python 3",
   "language": "python",
   "name": "python3"
  },
  "language_info": {
   "codemirror_mode": {
    "name": "ipython",
    "version": 3
   },
   "file_extension": ".py",
   "mimetype": "text/x-python",
   "name": "python",
   "nbconvert_exporter": "python",
   "pygments_lexer": "ipython3",
   "version": "3.7.6"
  }
 },
 "nbformat": 4,
 "nbformat_minor": 4
}
